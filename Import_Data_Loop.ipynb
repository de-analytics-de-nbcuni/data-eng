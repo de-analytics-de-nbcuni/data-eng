{
 "cells": [
  {
   "cell_type": "code",
   "execution_count": 0,
   "metadata": {
    "application/vnd.databricks.v1+cell": {
     "cellMetadata": {
      "byteLimit": 2048000,
      "rowLimit": 10000
     },
     "inputWidgets": {},
     "nuid": "6694c301-8cc5-4730-a3e8-29731058d2fd",
     "showTitle": false,
     "title": ""
    }
   },
   "outputs": [],
   "source": [
    "import sys\n",
    "import os\n",
    "# In the command below, update with the repo that you want to pull into the cluster\n",
    "sys.path.append(os.path.abspath('/Workspace/Repos/kumar.senniappan@nbcuni.com/data-eng'))"
   ]
  },
  {
   "cell_type": "code",
   "execution_count": 0,
   "metadata": {
    "application/vnd.databricks.v1+cell": {
     "cellMetadata": {
      "byteLimit": 2048000,
      "rowLimit": 10000
     },
     "inputWidgets": {},
     "nuid": "e11c2d61-0922-4cdd-a5d3-74156e29afc9",
     "showTitle": false,
     "title": ""
    }
   },
   "outputs": [],
   "source": [
    "!pip install -r requirements.txt"
   ]
  },
  {
   "cell_type": "code",
   "execution_count": 0,
   "metadata": {
    "application/vnd.databricks.v1+cell": {
     "cellMetadata": {
      "byteLimit": 2048000,
      "rowLimit": 10000
     },
     "inputWidgets": {},
     "nuid": "15ccc5ae-e65f-42ee-bf4e-add9a6a9f552",
     "showTitle": false,
     "title": ""
    }
   },
   "outputs": [],
   "source": [
    "#%run /Workspace/Repos/kumar.senniappan@nbcuni.com/data-eng/run_python.py\n",
    "%run util.py\n",
    "%run run_python.py\n"
   ]
  },
  {
   "cell_type": "code",
   "execution_count": 0,
   "metadata": {
    "application/vnd.databricks.v1+cell": {
     "cellMetadata": {
      "byteLimit": 2048000,
      "rowLimit": 10000
     },
     "inputWidgets": {},
     "nuid": "0695f057-8805-4e60-b8d9-aecb91a50057",
     "showTitle": false,
     "title": ""
    }
   },
   "outputs": [],
   "source": [
    "import pandas as pd\n",
    "\n",
    "pd.set_option('display.max_columns', None)"
   ]
  },
  {
   "cell_type": "code",
   "execution_count": 0,
   "metadata": {
    "application/vnd.databricks.v1+cell": {
     "cellMetadata": {
      "byteLimit": 2048000,
      "rowLimit": 10000
     },
     "inputWidgets": {},
     "nuid": "c5a2492c-3af7-4d3f-91a5-df7b13dfc336",
     "showTitle": false,
     "title": ""
    }
   },
   "outputs": [],
   "source": [
    "from run_python import run_python_function, create_pdf\n",
    "import sql_queries as sql\n",
    "import pandas as pd\n",
    "import rolling_7_days as rolling\n",
    "import warnings\n",
    "import CONSTAINTS as c\n",
    "import util \n",
    "#from util import *\n",
    "\n",
    "pd.set_option('display.max_columns', None)\n",
    "# pd.set_option('display.max_rows', None)\n",
    "\n",
    "warnings.filterwarnings(\"ignore\")\n",
    "\n",
    "engine = snowflake_engine()\n",
    "# ! pip3 install texlive-pictures --user\n"
   ]
  },
  {
   "cell_type": "markdown",
   "metadata": {
    "application/vnd.databricks.v1+cell": {
     "cellMetadata": {
      "byteLimit": 2048000,
      "rowLimit": 10000
     },
     "inputWidgets": {},
     "nuid": "fdc98244-94ed-4756-82e8-dc2758fc9034",
     "showTitle": false,
     "title": ""
    }
   },
   "source": [
    "# Import Data"
   ]
  },
  {
   "cell_type": "code",
   "execution_count": 0,
   "metadata": {
    "application/vnd.databricks.v1+cell": {
     "cellMetadata": {
      "byteLimit": 2048000,
      "rowLimit": 10000
     },
     "inputWidgets": {},
     "nuid": "c3131285-1627-4556-a7f7-072eb8bb5a79",
     "showTitle": false,
     "title": ""
    }
   },
   "outputs": [],
   "source": [
    "# Import Main Data\n",
    "df = sql.run_import_sql(engine)\n",
    "\n",
    "print(\"Done\")\n",
    "\n",
    "# # Output for each specific brand\n",
    "# brands = ['nbc', 'usa', 'bravo', 'syfy', 'oxygen']\n",
    "# for i in brands:\n",
    "#     df_temp = df[df.brand == i]\n",
    "#     df_temp.to_csv(c.data_dir + i + '_raw_data.npy', sep='\\t', index=False)\n",
    "\n",
    "print(\"Import main data Done\")"
   ]
  },
  {
   "cell_type": "code",
   "execution_count": 0,
   "metadata": {
    "application/vnd.databricks.v1+cell": {
     "cellMetadata": {
      "byteLimit": 2048000,
      "rowLimit": 10000
     },
     "inputWidgets": {},
     "nuid": "3ec47c1c-3146-4b5d-a5d5-c98f9d011f22",
     "showTitle": false,
     "title": ""
    }
   },
   "outputs": [],
   "source": [
    "# Import Data for Rolling 7 Days\n",
    "df_rolling_raw = rolling.rolling_7_days(engine)\n",
    "\n",
    "# Output data to 'data' folder for backup so don't need to run sql each time\n",
    "# df_rolling_raw.to_csv(c.data_dir + 'rolling_raw_data.npy', sep='\\t', index=False)\n",
    "\n",
    "print(\"Rolling Done\")"
   ]
  },
  {
   "cell_type": "code",
   "execution_count": 0,
   "metadata": {
    "application/vnd.databricks.v1+cell": {
     "cellMetadata": {
      "byteLimit": 2048000,
      "rowLimit": 10000
     },
     "inputWidgets": {},
     "nuid": "f68d8313-3806-4e08-98d6-128adac69f99",
     "showTitle": false,
     "title": ""
    }
   },
   "outputs": [],
   "source": [
    "# Import Data for Video FEP/SFV\n",
    "df_video = sql.run_video_sql(engine)\n",
    "\n",
    "# Output data to 'data' folder for backup so don't need to run sql each time\n",
    "# df_video.to_csv(c.data_dir + 'video_raw_data.npy', sep='\\t', index=False)\n",
    "\n",
    "print(\"Video Done\")"
   ]
  },
  {
   "cell_type": "code",
   "execution_count": 0,
   "metadata": {
    "application/vnd.databricks.v1+cell": {
     "cellMetadata": {
      "byteLimit": 2048000,
      "rowLimit": 10000
     },
     "inputWidgets": {},
     "nuid": "777f1f33-52e2-41f9-96ba-61cb69faf80c",
     "showTitle": false,
     "title": ""
    }
   },
   "outputs": [],
   "source": []
  },
  {
   "cell_type": "markdown",
   "metadata": {
    "application/vnd.databricks.v1+cell": {
     "cellMetadata": {
      "byteLimit": 2048000,
      "rowLimit": 10000
     },
     "inputWidgets": {},
     "nuid": "7e64f4a5-fe3a-477e-9fe3-30c98f401761",
     "showTitle": false,
     "title": ""
    }
   },
   "source": [
    "# Calc Metric"
   ]
  },
  {
   "cell_type": "code",
   "execution_count": 0,
   "metadata": {
    "application/vnd.databricks.v1+cell": {
     "cellMetadata": {
      "byteLimit": 2048000,
      "rowLimit": 10000
     },
     "inputWidgets": {},
     "nuid": "53ed9664-d995-44dc-ae41-e5b4b1b357aa",
     "showTitle": false,
     "title": ""
    }
   },
   "outputs": [],
   "source": [
    "# Run Python\n",
    "\n",
    "run_python_function('usa', df, df_rolling_raw, df_video)\n",
    "print('USA done')\n",
    "\n",
    "run_python_function('syfy', df, df_rolling_raw, df_video)\n",
    "print('SyFy done')\n",
    "\n",
    "run_python_function('oxygen', df, df_rolling_raw, df_video)\n",
    "print('Oxygen done')\n",
    "\n",
    "run_python_function('nbc', df, df_rolling_raw, df_video)\n",
    "print('NBC done')\n",
    "\n",
    "run_python_function('bravo', df, df_rolling_raw, df_video)\n",
    "print('Bravo done')\n",
    "\n",
    "print(\"All Done\")"
   ]
  },
  {
   "cell_type": "code",
   "execution_count": 0,
   "metadata": {
    "application/vnd.databricks.v1+cell": {
     "cellMetadata": {
      "byteLimit": 2048000,
      "rowLimit": 10000
     },
     "inputWidgets": {},
     "nuid": "42c71a6f-9877-4088-9014-e10db72c846c",
     "showTitle": false,
     "title": ""
    }
   },
   "outputs": [],
   "source": []
  },
  {
   "cell_type": "markdown",
   "metadata": {
    "application/vnd.databricks.v1+cell": {
     "cellMetadata": {
      "byteLimit": 2048000,
      "rowLimit": 10000
     },
     "inputWidgets": {},
     "nuid": "e12faca5-3fda-4eee-9b21-b71841ab3798",
     "showTitle": false,
     "title": ""
    }
   },
   "source": [
    "# Run PDF"
   ]
  },
  {
   "cell_type": "code",
   "execution_count": 0,
   "metadata": {
    "application/vnd.databricks.v1+cell": {
     "cellMetadata": {
      "byteLimit": 2048000,
      "rowLimit": 10000
     },
     "inputWidgets": {},
     "nuid": "b6d860ef-d3fe-49d3-8ada-75f0392839c0",
     "showTitle": false,
     "title": ""
    }
   },
   "outputs": [],
   "source": [
    "create_pdf('USA')\n",
    "print('USA done')\n",
    "\n",
    "create_pdf('SyFy')\n",
    "print('SyFy done')\n",
    "\n",
    "create_pdf('Oxygen')\n",
    "print('Oxygen done')\n",
    "\n",
    "create_pdf('Bravo')\n",
    "print('NBC done')\n",
    "\n",
    "create_pdf('NBC')\n",
    "print('Bravo done')\n",
    "\n",
    "print(\"All Done\")\n"
   ]
  },
  {
   "cell_type": "code",
   "execution_count": 0,
   "metadata": {
    "application/vnd.databricks.v1+cell": {
     "cellMetadata": {
      "byteLimit": 2048000,
      "rowLimit": 10000
     },
     "inputWidgets": {},
     "nuid": "1de3c31c-9f36-4f77-841d-20a312896c6e",
     "showTitle": false,
     "title": ""
    }
   },
   "outputs": [],
   "source": []
  }
 ],
 "metadata": {
  "application/vnd.databricks.v1+notebook": {
   "dashboards": [],
   "language": "python",
   "notebookMetadata": {
    "pythonIndentUnit": 4
   },
   "notebookName": "Import_Data_Loop",
   "notebookOrigID": 3240611444418834,
   "widgets": {}
  },
  "kernelspec": {
   "display_name": "Python 3",
   "language": "python",
   "name": "python3"
  },
  "language_info": {
   "codemirror_mode": {
    "name": "ipython",
    "version": 3
   },
   "file_extension": ".py",
   "mimetype": "text/x-python",
   "name": "python",
   "nbconvert_exporter": "python",
   "pygments_lexer": "ipython3",
   "version": "3.7.4"
  }
 },
 "nbformat": 4,
 "nbformat_minor": 0
}
